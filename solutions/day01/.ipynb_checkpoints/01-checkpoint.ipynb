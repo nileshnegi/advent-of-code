{
 "cells": [
  {
   "cell_type": "markdown",
   "metadata": {},
   "source": [
    "## Day 01"
   ]
  },
  {
   "cell_type": "markdown",
   "metadata": {},
   "source": [
    "#### Problem 1  \n",
    "Given input: https://adventofcode.com/2020/day/1/input  \n",
    "Find the two entries that sum to 2020 and then multiply those two numbers together.  \n",
    "\n",
    "P.S: Puzzle inputs differ by user"
   ]
  },
  {
   "cell_type": "code",
   "execution_count": 12,
   "metadata": {},
   "outputs": [
    {
     "name": "stdout",
     "output_type": "stream",
     "text": [
      "1479 541 800139\n"
     ]
    }
   ],
   "source": [
    "def main():\n",
    "    input_list = []\n",
    "    \n",
    "    with open('01_input.txt', 'r') as f:\n",
    "        for entry in f.readlines():\n",
    "            input_list.append(int(entry.rstrip()))\n",
    "    \n",
    "    for i in range(0, len(input_list)):\n",
    "        for j in range(i+1, len(input_list)):\n",
    "            if input_list[i] + input_list[j] == 2020:\n",
    "                print(input_list[i], input_list[j], input_list[i]*input_list[j])\n",
    "\n",
    "if __name__ == '__main__':\n",
    "    main()"
   ]
  },
  {
   "cell_type": "markdown",
   "metadata": {},
   "source": [
    "Now find three entries that sum to 2020 and then multiply these three numbers together."
   ]
  },
  {
   "cell_type": "code",
   "execution_count": 14,
   "metadata": {},
   "outputs": [
    {
     "name": "stdout",
     "output_type": "stream",
     "text": [
      "285 131 1604 59885340\n"
     ]
    }
   ],
   "source": [
    "def main():\n",
    "    input_list = []\n",
    "    \n",
    "    with open('01_input.txt', 'r') as f:\n",
    "        for entry in f.readlines():\n",
    "            input_list.append(int(entry.rstrip()))\n",
    "    \n",
    "    for i in range(0, len(input_list)):\n",
    "        for j in range(i+1, len(input_list)):\n",
    "            for k in range(j+1, len(input_list)):\n",
    "                if input_list[i] + input_list[j] + input_list[k] == 2020:\n",
    "                    print(input_list[i], input_list[j], input_list[k], input_list[i]*input_list[j]*input_list[k])\n",
    "\n",
    "if __name__ == '__main__':\n",
    "    main()"
   ]
  },
  {
   "cell_type": "code",
   "execution_count": 9,
   "metadata": {},
   "outputs": [
    {
     "name": "stdout",
     "output_type": "stream",
     "text": [
      "[131, 285, 359, 434, 458, 497, 541, 575, 679, 705, 1034, 1138, 1436, 1452, 1460, 1468, 1470, 1471, 1476, 1479, 1496, 1500, 1513, 1516, 1518, 1521, 1524, 1532, 1534, 1540, 1542, 1550, 1551, 1553, 1555, 1561, 1571, 1575, 1580, 1581, 1583, 1585, 1587, 1591, 1597, 1603, 1604, 1606, 1608, 1614, 1615, 1622, 1625, 1631, 1637, 1639, 1641, 1644, 1645, 1646, 1647, 1649, 1650, 1654, 1660, 1662, 1664, 1665, 1673, 1677, 1678, 1679, 1681, 1687, 1692, 1693, 1697, 1699, 1700, 1701, 1704, 1706, 1707, 1710, 1711, 1712, 1715, 1718, 1721, 1724, 1725, 1726, 1737, 1739, 1742, 1745, 1746, 1747, 1748, 1754, 1761, 1762, 1767, 1774, 1781, 1783, 1787, 1788, 1791, 1796, 1800, 1802, 1803, 1805, 1807, 1810, 1812, 1813, 1814, 1816, 1820, 1823, 1825, 1826, 1830, 1831, 1833, 1836, 1837, 1839, 1840, 1844, 1847, 1851, 1855, 1856, 1862, 1863, 1864, 1866, 1873, 1875, 1881, 1882, 1883, 1886, 1887, 1890, 1891, 1893, 1894, 1895, 1896, 1897, 1898, 1900, 1902, 1904, 1907, 1908, 1910, 1911, 1915, 1917, 1926, 1927, 1931, 1933, 1937, 1939, 1940, 1941, 1947, 1955, 1958, 1965, 1968, 1969, 1971, 1972, 1973, 1974, 1980, 1982, 1983, 1985, 1987, 1990, 1991, 1993, 1994, 1996, 1997, 2000, 2001, 2002, 2004, 2006, 2008, 2010]\n",
      "200\n"
     ]
    }
   ],
   "source": [
    "def main():\n",
    "    input_list = []\n",
    "    \n",
    "    with open('01_input.txt', 'r') as f:\n",
    "        for entry in f.readlines():\n",
    "            input_list.append(int(entry.rstrip()))\n",
    "    \n",
    "    input_list.sort()\n",
    "    \n",
    "    print(input_list)\n",
    "    print(len(input_list))\n",
    "\n",
    "if __name__ == '__main__':\n",
    "    main()"
   ]
  },
  {
   "cell_type": "code",
   "execution_count": null,
   "metadata": {},
   "outputs": [],
   "source": []
  }
 ],
 "metadata": {
  "kernelspec": {
   "display_name": "Python 3",
   "language": "python",
   "name": "python3"
  },
  "language_info": {
   "codemirror_mode": {
    "name": "ipython",
    "version": 3
   },
   "file_extension": ".py",
   "mimetype": "text/x-python",
   "name": "python",
   "nbconvert_exporter": "python",
   "pygments_lexer": "ipython3",
   "version": "3.7.3"
  }
 },
 "nbformat": 4,
 "nbformat_minor": 2
}
