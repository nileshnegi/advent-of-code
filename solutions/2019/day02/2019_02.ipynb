{
 "cells": [
  {
   "cell_type": "markdown",
   "metadata": {},
   "source": [
    "## Advent of Code 2019 -- Day 02"
   ]
  },
  {
   "cell_type": "markdown",
   "metadata": {},
   "source": [
    "#### Problem 1\n",
    "Given input: https://adventofcode.com/2019/day/2/input<br>\n",
    "An Intcode program is a list of integers separated by commas like `1,0,0,3,99`.  To run one, start by looking at the first integer (called position 0). Here, you will find an opcode - either `1`, `2`, or `99`. The opcode indicates what to do; for example, `99 means that the program is finished and should immediately halt`. Encountering an unknown opcode means something went wrong.<br>\n",
    "`Opcode 1 adds together numbers read from two positions and stores the result in a third position`. The three integers immediately after the opcode tell you these three positions - the first two indicate the positions from which you should read the input values, and the third indicates the position at which the output should be stored.  \n",
    "For example, if your Intcode computer encounters 1,10,20,30, it should read the values at positions 10 and 20, add those values, and then overwrite the value at position 30 with their sum.<br>\n",
    "`Opcode 2 works exactly like opcode 1, except it multiplies the two inputs instead of adding them`. Again, the three integers after the opcode indicate where the inputs and outputs are, not their values.<br>\n",
    "Once you're done processing an opcode, move to the next one by stepping forward 4 positions.\n",
    "#### Before running the program, replace position 1 with the value 12 and replace position 2 with the value 2. What value is left at position 0 after the program halts?<br>\n",
    "<br>\n",
    "<br>\n",
    "P.S: Puzzle inputs differ by user"
   ]
  },
  {
   "cell_type": "code",
   "execution_count": 1,
   "metadata": {},
   "outputs": [],
   "source": [
    "input_list = list()\n",
    "\n",
    "with open('2019_02_input.txt', 'r') as f:\n",
    "    input_list = list(map(int, f.readline().rstrip().split(',')))"
   ]
  },
  {
   "cell_type": "code",
   "execution_count": 2,
   "metadata": {},
   "outputs": [],
   "source": [
    "def run_intcode(lst, a, b):\n",
    "    lst[1] = a\n",
    "    lst[2] = b\n",
    "    i = 0\n",
    "\n",
    "    while i < len(lst):\n",
    "        if lst[i] == 1:\n",
    "            lst[lst[i+3]] = lst[lst[i+1]] + lst[lst[i+2]]\n",
    "        elif lst[i] == 2:\n",
    "            lst[lst[i+3]] = lst[lst[i+1]] * lst[lst[i+2]]\n",
    "        elif lst[i] == 99:\n",
    "            break\n",
    "        i = i + 4\n",
    "    \n",
    "    return lst[0]"
   ]
  },
  {
   "cell_type": "code",
   "execution_count": 3,
   "metadata": {},
   "outputs": [
    {
     "name": "stdout",
     "output_type": "stream",
     "text": [
      "3562624\n",
      "Wall time: 0 ns\n"
     ]
    }
   ],
   "source": [
    "%%time\n",
    "print(run_intcode(input_list.copy(), 12, 2))"
   ]
  },
  {
   "cell_type": "markdown",
   "metadata": {},
   "source": [
    "#### Problem 2  \n",
    "Find the input noun and verb i.e. the values at position 1 and 2 of the input intcode that cause the program to produce the output 19690720.  \n",
    "What is 100 * noun + verb? (For example, if noun=12 and verb=2, the answer would be 1202.)"
   ]
  },
  {
   "cell_type": "code",
   "execution_count": 4,
   "metadata": {},
   "outputs": [
    {
     "name": "stdout",
     "output_type": "stream",
     "text": [
      "82 98\n",
      "8298\n",
      "Wall time: 127 ms\n"
     ]
    }
   ],
   "source": [
    "%%time\n",
    "for a in range(100):\n",
    "    for b in range(100):\n",
    "        if run_intcode(input_list.copy(), a, b) == 19690720:\n",
    "            print(a, b)\n",
    "            print(100*a + b)\n",
    "            break"
   ]
  }
 ],
 "metadata": {
  "kernelspec": {
   "display_name": "Python 3",
   "language": "python",
   "name": "python3"
  },
  "language_info": {
   "codemirror_mode": {
    "name": "ipython",
    "version": 3
   },
   "file_extension": ".py",
   "mimetype": "text/x-python",
   "name": "python",
   "nbconvert_exporter": "python",
   "pygments_lexer": "ipython3",
   "version": "3.7.3"
  }
 },
 "nbformat": 4,
 "nbformat_minor": 2
}
