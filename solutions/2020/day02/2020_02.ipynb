{
 "cells": [
  {
   "cell_type": "markdown",
   "metadata": {},
   "source": [
    "## Day 02"
   ]
  },
  {
   "cell_type": "markdown",
   "metadata": {},
   "source": [
    "#### Problem 1  \n",
    "Given input: https://adventofcode.com/2020/day/2/input  \n",
    "Each line gives the password policy and then the password. The password policy indicates the lowest and highest number of times a given letter must appear for the password to be valid.  \n",
    "\n",
    "For example, `1-3 a` means that the password must contain `a` at least 1 time and at most 3 times.  \n",
    "So `1-3 a: abcde` is VALID, but `1-3 b: cdefg` is INVALID.  \n",
    "\n",
    "_P.S: Puzzle inputs differ by user_"
   ]
  },
  {
   "cell_type": "code",
   "execution_count": 1,
   "metadata": {},
   "outputs": [],
   "source": [
    "input_list = []\n",
    "\n",
    "with open('02_input.txt', 'r') as f:\n",
    "    for entry in f.readlines():\n",
    "        input_list.append(entry.rstrip().split())"
   ]
  },
  {
   "cell_type": "code",
   "execution_count": 2,
   "metadata": {},
   "outputs": [],
   "source": [
    "def check_password(lst):\n",
    "    min_occur, max_occur = map(int, lst[0].split('-'))\n",
    "    char = lst[1][0]\n",
    "    password = lst[2]\n",
    "    \n",
    "    count = password.count(char)\n",
    "    return count >= min_occur and count <= max_occur"
   ]
  },
  {
   "cell_type": "code",
   "execution_count": 3,
   "metadata": {},
   "outputs": [
    {
     "name": "stdout",
     "output_type": "stream",
     "text": [
      "600\n"
     ]
    }
   ],
   "source": [
    "valid_count = 0\n",
    "\n",
    "for entry in input_list:\n",
    "    if check_password(entry):\n",
    "        valid_count += 1\n",
    "\n",
    "print(valid_count)"
   ]
  },
  {
   "cell_type": "markdown",
   "metadata": {},
   "source": [
    "#### Problem 2  \n",
    "The password policy has changed. Now each policy actually describes two positions in the password, where 1 means the first character, 2 means the second character, and so on. Exactly one of these positions must contain the given letter. Other occurrences of the letter are irrelevant for the purposes of policy enforcement.  \n",
    "For example, `1-3 a` means that the password must contain `a` at either the first or third position, but not both.  \n",
    "So `1-3 a: abcde` is VALID, but `2-9 c: ccccccccc` is INVALID.  "
   ]
  },
  {
   "cell_type": "code",
   "execution_count": 4,
   "metadata": {},
   "outputs": [],
   "source": [
    "def check_password_v2(lst):\n",
    "    pos1, pos2 = map(int, lst[0].split('-'))\n",
    "    char = lst[1][0]\n",
    "    password = lst[2]\n",
    "    \n",
    "    return (password[pos1 - 1] == char) != (password[pos2 - 1] == char)"
   ]
  },
  {
   "cell_type": "code",
   "execution_count": 5,
   "metadata": {},
   "outputs": [
    {
     "name": "stdout",
     "output_type": "stream",
     "text": [
      "245\n"
     ]
    }
   ],
   "source": [
    "valid_count = 0\n",
    "\n",
    "for entry in input_list:\n",
    "    if check_password_v2(entry):\n",
    "        valid_count += 1\n",
    "\n",
    "print(valid_count)"
   ]
  }
 ],
 "metadata": {
  "kernelspec": {
   "display_name": "Python 3",
   "language": "python",
   "name": "python3"
  },
  "language_info": {
   "codemirror_mode": {
    "name": "ipython",
    "version": 3
   },
   "file_extension": ".py",
   "mimetype": "text/x-python",
   "name": "python",
   "nbconvert_exporter": "python",
   "pygments_lexer": "ipython3",
   "version": "3.7.3"
  }
 },
 "nbformat": 4,
 "nbformat_minor": 2
}
