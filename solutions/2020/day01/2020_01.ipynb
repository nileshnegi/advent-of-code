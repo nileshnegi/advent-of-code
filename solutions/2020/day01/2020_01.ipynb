{
 "cells": [
  {
   "cell_type": "markdown",
   "metadata": {},
   "source": [
    "## Day 01"
   ]
  },
  {
   "cell_type": "markdown",
   "metadata": {},
   "source": [
    "#### Problem 1  \n",
    "Given input: https://adventofcode.com/2020/day/1/input  \n",
    "Find the two entries that sum to 2020 and then multiply those two numbers together.  \n",
    "\n",
    "P.S: Puzzle inputs differ by user"
   ]
  },
  {
   "cell_type": "code",
   "execution_count": 1,
   "metadata": {},
   "outputs": [],
   "source": [
    "input_list = []\n",
    "\n",
    "with open('01_input.txt', 'r') as f:\n",
    "    for entry in f.readlines():\n",
    "        input_list.append(int(entry.rstrip()))"
   ]
  },
  {
   "cell_type": "code",
   "execution_count": 2,
   "metadata": {},
   "outputs": [
    {
     "name": "stdout",
     "output_type": "stream",
     "text": [
      "1479 541 800139\n",
      "Wall time: 0 ns\n"
     ]
    }
   ],
   "source": [
    "%%time\n",
    "for i in range(0, len(input_list)):\n",
    "    for j in range(i+1, len(input_list)):\n",
    "        if input_list[i] + input_list[j] == 2020:\n",
    "            print(input_list[i], input_list[j], input_list[i]*input_list[j])"
   ]
  },
  {
   "cell_type": "markdown",
   "metadata": {},
   "source": [
    "#### Problem 2  \n",
    "Now find three entries that sum to 2020 and then multiply these three numbers together."
   ]
  },
  {
   "cell_type": "code",
   "execution_count": 3,
   "metadata": {},
   "outputs": [
    {
     "name": "stdout",
     "output_type": "stream",
     "text": [
      "285 131 1604 59885340\n",
      "Wall time: 280 ms\n"
     ]
    }
   ],
   "source": [
    "%%time\n",
    "for i in range(0, len(input_list)):\n",
    "    for j in range(i+1, len(input_list)):\n",
    "        for k in range(j+1, len(input_list)):\n",
    "            if input_list[i] + input_list[j] + input_list[k] == 2020:\n",
    "                print(input_list[i], input_list[j], input_list[k], input_list[i]*input_list[j]*input_list[k])"
   ]
  }
 ],
 "metadata": {
  "kernelspec": {
   "display_name": "Python 3",
   "language": "python",
   "name": "python3"
  },
  "language_info": {
   "codemirror_mode": {
    "name": "ipython",
    "version": 3
   },
   "file_extension": ".py",
   "mimetype": "text/x-python",
   "name": "python",
   "nbconvert_exporter": "python",
   "pygments_lexer": "ipython3",
   "version": "3.7.3"
  }
 },
 "nbformat": 4,
 "nbformat_minor": 2
}
